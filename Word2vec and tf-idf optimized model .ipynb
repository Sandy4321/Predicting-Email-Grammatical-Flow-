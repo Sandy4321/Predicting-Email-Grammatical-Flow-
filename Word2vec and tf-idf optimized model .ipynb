{
 "cells": [
  {
   "cell_type": "code",
   "execution_count": 1,
   "metadata": {},
   "outputs": [
    {
     "name": "stderr",
     "output_type": "stream",
     "text": [
      "/home/umang/.local/lib/python2.7/site-packages/scipy/sparse/lil.py:19: RuntimeWarning: numpy.dtype size changed, may indicate binary incompatibility. Expected 96, got 88\n",
      "  from . import _csparsetools\n",
      "/home/umang/.local/lib/python2.7/site-packages/scipy/sparse/csgraph/__init__.py:165: RuntimeWarning: numpy.dtype size changed, may indicate binary incompatibility. Expected 96, got 88\n",
      "  from ._shortest_path import shortest_path, floyd_warshall, dijkstra,\\\n",
      "/home/umang/.local/lib/python2.7/site-packages/scipy/sparse/csgraph/_validation.py:5: RuntimeWarning: numpy.dtype size changed, may indicate binary incompatibility. Expected 96, got 88\n",
      "  from ._tools import csgraph_to_dense, csgraph_from_dense,\\\n",
      "/home/umang/.local/lib/python2.7/site-packages/scipy/sparse/csgraph/__init__.py:167: RuntimeWarning: numpy.dtype size changed, may indicate binary incompatibility. Expected 96, got 88\n",
      "  from ._traversal import breadth_first_order, depth_first_order, \\\n",
      "/home/umang/.local/lib/python2.7/site-packages/scipy/sparse/csgraph/__init__.py:169: RuntimeWarning: numpy.dtype size changed, may indicate binary incompatibility. Expected 96, got 88\n",
      "  from ._min_spanning_tree import minimum_spanning_tree\n",
      "/home/umang/.local/lib/python2.7/site-packages/scipy/sparse/csgraph/__init__.py:170: RuntimeWarning: numpy.dtype size changed, may indicate binary incompatibility. Expected 96, got 88\n",
      "  from ._reordering import reverse_cuthill_mckee, maximum_bipartite_matching, \\\n",
      "/home/umang/.local/lib/python2.7/site-packages/sklearn/utils/__init__.py:9: RuntimeWarning: numpy.dtype size changed, may indicate binary incompatibility. Expected 96, got 88\n",
      "  from .murmurhash import murmurhash3_32\n",
      "/home/umang/.local/lib/python2.7/site-packages/scipy/linalg/basic.py:17: RuntimeWarning: numpy.dtype size changed, may indicate binary incompatibility. Expected 96, got 88\n",
      "  from ._solve_toeplitz import levinson\n",
      "/home/umang/.local/lib/python2.7/site-packages/scipy/linalg/__init__.py:207: RuntimeWarning: numpy.dtype size changed, may indicate binary incompatibility. Expected 96, got 88\n",
      "  from ._decomp_update import *\n",
      "/home/umang/.local/lib/python2.7/site-packages/scipy/special/__init__.py:640: RuntimeWarning: numpy.dtype size changed, may indicate binary incompatibility. Expected 96, got 88\n",
      "  from ._ufuncs import *\n",
      "/home/umang/.local/lib/python2.7/site-packages/scipy/special/_ellip_harm.py:7: RuntimeWarning: numpy.dtype size changed, may indicate binary incompatibility. Expected 96, got 88\n",
      "  from ._ellip_harm_2 import _ellipsoid, _ellipsoid_norm\n",
      "/home/umang/.local/lib/python2.7/site-packages/scipy/interpolate/_bsplines.py:10: RuntimeWarning: numpy.dtype size changed, may indicate binary incompatibility. Expected 96, got 88\n",
      "  from . import _bspl\n",
      "/home/umang/.local/lib/python2.7/site-packages/scipy/spatial/__init__.py:95: RuntimeWarning: numpy.dtype size changed, may indicate binary incompatibility. Expected 96, got 88\n",
      "  from .ckdtree import *\n",
      "/home/umang/.local/lib/python2.7/site-packages/scipy/spatial/__init__.py:96: RuntimeWarning: numpy.dtype size changed, may indicate binary incompatibility. Expected 96, got 88\n",
      "  from .qhull import *\n",
      "/home/umang/.local/lib/python2.7/site-packages/scipy/spatial/_spherical_voronoi.py:18: RuntimeWarning: numpy.dtype size changed, may indicate binary incompatibility. Expected 96, got 88\n",
      "  from . import _voronoi\n",
      "/home/umang/.local/lib/python2.7/site-packages/scipy/spatial/distance.py:122: RuntimeWarning: numpy.dtype size changed, may indicate binary incompatibility. Expected 96, got 88\n",
      "  from . import _hausdorff\n",
      "/home/umang/.local/lib/python2.7/site-packages/scipy/optimize/_trlib/__init__.py:1: RuntimeWarning: numpy.dtype size changed, may indicate binary incompatibility. Expected 96, got 88\n",
      "  from ._trlib import TRLIBQuadraticSubproblem\n",
      "/home/umang/.local/lib/python2.7/site-packages/scipy/optimize/_numdiff.py:10: RuntimeWarning: numpy.dtype size changed, may indicate binary incompatibility. Expected 96, got 88\n",
      "  from ._group_columns import group_dense, group_sparse\n",
      "/home/umang/.local/lib/python2.7/site-packages/scipy/stats/_continuous_distns.py:18: RuntimeWarning: numpy.dtype size changed, may indicate binary incompatibility. Expected 96, got 88\n",
      "  from . import _stats\n",
      "/home/umang/.local/lib/python2.7/site-packages/sklearn/utils/extmath.py:24: RuntimeWarning: numpy.dtype size changed, may indicate binary incompatibility. Expected 96, got 88\n",
      "  from ._logistic_sigmoid import _log_logistic_sigmoid\n",
      "/home/umang/.local/lib/python2.7/site-packages/sklearn/utils/extmath.py:26: RuntimeWarning: numpy.dtype size changed, may indicate binary incompatibility. Expected 96, got 88\n",
      "  from .sparsefuncs_fast import csr_row_norms\n",
      "/home/umang/.local/lib/python2.7/site-packages/sklearn/metrics/cluster/supervised.py:23: RuntimeWarning: numpy.dtype size changed, may indicate binary incompatibility. Expected 96, got 88\n",
      "  from .expected_mutual_info_fast import expected_mutual_information\n",
      "/home/umang/.local/lib/python2.7/site-packages/sklearn/metrics/pairwise.py:30: RuntimeWarning: numpy.dtype size changed, may indicate binary incompatibility. Expected 96, got 88\n",
      "  from .pairwise_fast import _chi2_kernel_fast, _sparse_manhattan\n",
      "/home/umang/.local/lib/python2.7/site-packages/sklearn/cross_validation.py:41: DeprecationWarning: This module was deprecated in version 0.18 in favor of the model_selection module into which all the refactored classes and functions are moved. Also note that the interface of the new CV iterators are different from that of this module. This module will be removed in 0.20.\n",
      "  \"This module will be removed in 0.20.\", DeprecationWarning)\n",
      "/home/umang/.local/lib/python2.7/site-packages/sklearn/utils/random.py:10: RuntimeWarning: numpy.dtype size changed, may indicate binary incompatibility. Expected 96, got 88\n",
      "  from ._random import sample_without_replacement\n",
      "/home/umang/.local/lib/python2.7/site-packages/sklearn/svm/base.py:8: RuntimeWarning: numpy.dtype size changed, may indicate binary incompatibility. Expected 96, got 88\n",
      "  from . import libsvm, liblinear\n",
      "/home/umang/.local/lib/python2.7/site-packages/sklearn/svm/base.py:9: RuntimeWarning: numpy.dtype size changed, may indicate binary incompatibility. Expected 96, got 88\n",
      "  from . import libsvm_sparse\n",
      "/home/umang/.local/lib/python2.7/site-packages/sklearn/linear_model/base.py:35: RuntimeWarning: numpy.dtype size changed, may indicate binary incompatibility. Expected 96, got 88\n",
      "  from ..utils.seq_dataset import ArrayDataset, CSRDataset\n",
      "/home/umang/.local/lib/python2.7/site-packages/sklearn/linear_model/least_angle.py:23: RuntimeWarning: numpy.dtype size changed, may indicate binary incompatibility. Expected 96, got 88\n",
      "  from ..utils import arrayfuncs, as_float_array, check_X_y, deprecated\n",
      "/home/umang/.local/lib/python2.7/site-packages/sklearn/linear_model/coordinate_descent.py:29: RuntimeWarning: numpy.dtype size changed, may indicate binary incompatibility. Expected 96, got 88\n",
      "  from . import cd_fast\n",
      "/home/umang/.local/lib/python2.7/site-packages/sklearn/linear_model/__init__.py:22: RuntimeWarning: numpy.dtype size changed, may indicate binary incompatibility. Expected 96, got 88\n",
      "  from .sgd_fast import Hinge, Log, ModifiedHuber, SquaredLoss, Huber\n",
      "/home/umang/.local/lib/python2.7/site-packages/sklearn/linear_model/sag.py:12: RuntimeWarning: numpy.dtype size changed, may indicate binary incompatibility. Expected 96, got 88\n",
      "  from .sag_fast import sag\n",
      "/home/umang/.local/lib/python2.7/site-packages/sklearn/neighbors/__init__.py:6: RuntimeWarning: numpy.dtype size changed, may indicate binary incompatibility. Expected 96, got 88\n",
      "  from .ball_tree import BallTree\n",
      "/home/umang/.local/lib/python2.7/site-packages/sklearn/neighbors/__init__.py:7: RuntimeWarning: numpy.dtype size changed, may indicate binary incompatibility. Expected 96, got 88\n",
      "  from .kd_tree import KDTree\n",
      "/home/umang/.local/lib/python2.7/site-packages/pandas/_libs/__init__.py:4: RuntimeWarning: numpy.dtype size changed, may indicate binary incompatibility. Expected 96, got 88\n",
      "  from .tslib import iNaT, NaT, Timestamp, Timedelta, OutOfBoundsDatetime\n",
      "/home/umang/.local/lib/python2.7/site-packages/pandas/__init__.py:26: RuntimeWarning: numpy.dtype size changed, may indicate binary incompatibility. Expected 96, got 88\n",
      "  from pandas._libs import (hashtable as _hashtable,\n"
     ]
    },
    {
     "name": "stderr",
     "output_type": "stream",
     "text": [
      "/home/umang/.local/lib/python2.7/site-packages/pandas/core/dtypes/common.py:6: RuntimeWarning: numpy.dtype size changed, may indicate binary incompatibility. Expected 96, got 88\n",
      "  from pandas._libs import algos, lib\n",
      "/home/umang/.local/lib/python2.7/site-packages/pandas/core/util/hashing.py:7: RuntimeWarning: numpy.dtype size changed, may indicate binary incompatibility. Expected 96, got 88\n",
      "  from pandas._libs import hashing, tslib\n",
      "/home/umang/.local/lib/python2.7/site-packages/pandas/core/indexes/base.py:7: RuntimeWarning: numpy.dtype size changed, may indicate binary incompatibility. Expected 96, got 88\n",
      "  from pandas._libs import (lib, index as libindex, tslib as libts,\n",
      "/home/umang/.local/lib/python2.7/site-packages/pandas/tseries/offsets.py:21: RuntimeWarning: numpy.dtype size changed, may indicate binary incompatibility. Expected 96, got 88\n",
      "  import pandas._libs.tslibs.offsets as liboffsets\n",
      "/home/umang/.local/lib/python2.7/site-packages/pandas/core/ops.py:16: RuntimeWarning: numpy.dtype size changed, may indicate binary incompatibility. Expected 96, got 88\n",
      "  from pandas._libs import algos as libalgos, ops as libops\n",
      "/home/umang/.local/lib/python2.7/site-packages/pandas/core/indexes/interval.py:32: RuntimeWarning: numpy.dtype size changed, may indicate binary incompatibility. Expected 96, got 88\n",
      "  from pandas._libs.interval import (\n",
      "/home/umang/.local/lib/python2.7/site-packages/pandas/core/internals.py:14: RuntimeWarning: numpy.dtype size changed, may indicate binary incompatibility. Expected 96, got 88\n",
      "  from pandas._libs import internals as libinternals\n",
      "/home/umang/.local/lib/python2.7/site-packages/pandas/core/sparse/array.py:33: RuntimeWarning: numpy.dtype size changed, may indicate binary incompatibility. Expected 96, got 88\n",
      "  import pandas._libs.sparse as splib\n",
      "/home/umang/.local/lib/python2.7/site-packages/pandas/core/window.py:36: RuntimeWarning: numpy.dtype size changed, may indicate binary incompatibility. Expected 96, got 88\n",
      "  import pandas._libs.window as _window\n",
      "/home/umang/.local/lib/python2.7/site-packages/pandas/core/groupby/groupby.py:68: RuntimeWarning: numpy.dtype size changed, may indicate binary incompatibility. Expected 96, got 88\n",
      "  from pandas._libs import (lib, reduction,\n",
      "/home/umang/.local/lib/python2.7/site-packages/pandas/core/reshape/reshape.py:30: RuntimeWarning: numpy.dtype size changed, may indicate binary incompatibility. Expected 96, got 88\n",
      "  from pandas._libs import algos as _algos, reshape as _reshape\n",
      "/home/umang/.local/lib/python2.7/site-packages/pandas/io/parsers.py:45: RuntimeWarning: numpy.dtype size changed, may indicate binary incompatibility. Expected 96, got 88\n",
      "  import pandas._libs.parsers as parsers\n",
      "/home/umang/.local/lib/python2.7/site-packages/pandas/io/pytables.py:50: RuntimeWarning: numpy.dtype size changed, may indicate binary incompatibility. Expected 96, got 88\n",
      "  from pandas._libs import algos, lib, writers as libwriters\n",
      "/home/umang/.local/lib/python2.7/site-packages/sklearn/feature_extraction/hashing.py:10: RuntimeWarning: numpy.dtype size changed, may indicate binary incompatibility. Expected 96, got 88\n",
      "  from . import _hashing\n",
      "/home/umang/.local/lib/python2.7/site-packages/scipy/io/matlab/mio4.py:18: RuntimeWarning: numpy.dtype size changed, may indicate binary incompatibility. Expected 96, got 88\n",
      "  from .mio_utils import squeeze_element, chars_to_strings\n",
      "/home/umang/.local/lib/python2.7/site-packages/scipy/io/matlab/mio5.py:98: RuntimeWarning: numpy.dtype size changed, may indicate binary incompatibility. Expected 96, got 88\n",
      "  from .mio5_utils import VarReader5\n",
      "/home/umang/.local/lib/python2.7/site-packages/sklearn/datasets/svmlight_format.py:25: RuntimeWarning: numpy.dtype size changed, may indicate binary incompatibility. Expected 96, got 88\n",
      "  from ._svmlight_format import _load_svmlight_file\n"
     ]
    }
   ],
   "source": [
    "from sklearn import cross_validation,model_selection\n",
    "from sklearn import svm  \n",
    "import numpy as np\n",
    "import pandas as pd\n",
    "from sklearn.linear_model import LogisticRegression\n",
    "from sklearn.metrics import accuracy_score,classification_report\n",
    "from sklearn import cross_validation,model_selection\n",
    "from sklearn.metrics import precision_recall_fscore_support\n",
    "from sklearn.feature_selection import SelectKBest\n",
    "from sklearn.feature_selection import f_classif\n",
    "from tqdm import tqdm\n",
    "from sklearn.feature_extraction.text import TfidfVectorizer\n",
    "from sklearn.feature_extraction.text import CountVectorizer\n",
    "from nltk.stem import PorterStemmer\n",
    "from nltk.tokenize import sent_tokenize, word_tokenize\n",
    "import re\n",
    "from sklearn.feature_extraction.text import TfidfTransformer\n",
    "from string import count\n",
    "ps = PorterStemmer()"
   ]
  },
  {
   "cell_type": "code",
   "execution_count": 2,
   "metadata": {},
   "outputs": [],
   "source": [
    "word2vec_features = pd.read_csv(\"/home/umang/Desktop/AM_Email_Tagging/Intermediate Excel Files/ummang_word2vec.csv\")"
   ]
  },
  {
   "cell_type": "code",
   "execution_count": 3,
   "metadata": {},
   "outputs": [
    {
     "data": {
      "text/html": [
       "<div>\n",
       "<style scoped>\n",
       "    .dataframe tbody tr th:only-of-type {\n",
       "        vertical-align: middle;\n",
       "    }\n",
       "\n",
       "    .dataframe tbody tr th {\n",
       "        vertical-align: top;\n",
       "    }\n",
       "\n",
       "    .dataframe thead th {\n",
       "        text-align: right;\n",
       "    }\n",
       "</style>\n",
       "<table border=\"1\" class=\"dataframe\">\n",
       "  <thead>\n",
       "    <tr style=\"text-align: right;\">\n",
       "      <th></th>\n",
       "      <th>Unnamed: 0</th>\n",
       "      <th>Amcatid</th>\n",
       "      <th>Sentences</th>\n",
       "      <th>Tag_name</th>\n",
       "      <th>Flow</th>\n",
       "      <th>Rater_id</th>\n",
       "      <th>All_tags</th>\n",
       "      <th>cleaned_text</th>\n",
       "      <th>0</th>\n",
       "      <th>1</th>\n",
       "      <th>...</th>\n",
       "      <th>291</th>\n",
       "      <th>292</th>\n",
       "      <th>293</th>\n",
       "      <th>294</th>\n",
       "      <th>295</th>\n",
       "      <th>296</th>\n",
       "      <th>297</th>\n",
       "      <th>298</th>\n",
       "      <th>299</th>\n",
       "      <th>flag</th>\n",
       "    </tr>\n",
       "  </thead>\n",
       "  <tbody>\n",
       "    <tr>\n",
       "      <th>0</th>\n",
       "      <td>0</td>\n",
       "      <td>10016611374320</td>\n",
       "      <td>I am Rajeev Pathak, CSE,IT Systems</td>\n",
       "      <td>oi_tag</td>\n",
       "      <td>3</td>\n",
       "      <td>1</td>\n",
       "      <td>['oi', '/oi', 'ccd', '/ccd']</td>\n",
       "      <td>i am rajeev pathak  cse it systems</td>\n",
       "      <td>0.003418</td>\n",
       "      <td>-0.187500</td>\n",
       "      <td>...</td>\n",
       "      <td>0.156128</td>\n",
       "      <td>0.002563</td>\n",
       "      <td>0.336914</td>\n",
       "      <td>0.118469</td>\n",
       "      <td>-0.143799</td>\n",
       "      <td>0.098267</td>\n",
       "      <td>-0.203857</td>\n",
       "      <td>-0.007050</td>\n",
       "      <td>0.055481</td>\n",
       "      <td>0</td>\n",
       "    </tr>\n",
       "    <tr>\n",
       "      <th>1</th>\n",
       "      <td>1</td>\n",
       "      <td>10016611374320</td>\n",
       "      <td>. I can send you the detailed time and cost es...</td>\n",
       "      <td>ccd_tag</td>\n",
       "      <td>3</td>\n",
       "      <td>1</td>\n",
       "      <td>['oi', '/oi', 'ccd', '/ccd']</td>\n",
       "      <td>i can send you the detailed time and cost es...</td>\n",
       "      <td>-0.031738</td>\n",
       "      <td>-0.119141</td>\n",
       "      <td>...</td>\n",
       "      <td>0.225403</td>\n",
       "      <td>-0.262939</td>\n",
       "      <td>-0.197815</td>\n",
       "      <td>0.301208</td>\n",
       "      <td>0.294434</td>\n",
       "      <td>0.207520</td>\n",
       "      <td>-0.430069</td>\n",
       "      <td>0.114990</td>\n",
       "      <td>-0.767578</td>\n",
       "      <td>0</td>\n",
       "    </tr>\n",
       "    <tr>\n",
       "      <th>2</th>\n",
       "      <td>2</td>\n",
       "      <td>10016614250601</td>\n",
       "      <td>Super Bazaar is looking to upgrade its old in...</td>\n",
       "      <td>op_tag</td>\n",
       "      <td>1</td>\n",
       "      <td>1</td>\n",
       "      <td>['op', '/op', 'cdf', '/cdf']</td>\n",
       "      <td>super bazaar is looking to upgrade its old in...</td>\n",
       "      <td>0.493530</td>\n",
       "      <td>0.235840</td>\n",
       "      <td>...</td>\n",
       "      <td>0.743286</td>\n",
       "      <td>0.121674</td>\n",
       "      <td>0.478882</td>\n",
       "      <td>0.555786</td>\n",
       "      <td>-0.464111</td>\n",
       "      <td>-0.050537</td>\n",
       "      <td>-0.084595</td>\n",
       "      <td>0.132950</td>\n",
       "      <td>-0.100220</td>\n",
       "      <td>0</td>\n",
       "    </tr>\n",
       "    <tr>\n",
       "      <th>3</th>\n",
       "      <td>3</td>\n",
       "      <td>10016614250601</td>\n",
       "      <td>we will tell you our simpler way to deal.\\n\\n\\n</td>\n",
       "      <td>cdf_tag</td>\n",
       "      <td>1</td>\n",
       "      <td>1</td>\n",
       "      <td>['op', '/op', 'cdf', '/cdf']</td>\n",
       "      <td>we will tell you our simpler way to deal</td>\n",
       "      <td>0.247253</td>\n",
       "      <td>-0.041504</td>\n",
       "      <td>...</td>\n",
       "      <td>0.080811</td>\n",
       "      <td>-0.165283</td>\n",
       "      <td>-0.085449</td>\n",
       "      <td>-0.573730</td>\n",
       "      <td>0.235352</td>\n",
       "      <td>0.309509</td>\n",
       "      <td>-0.439819</td>\n",
       "      <td>-0.047852</td>\n",
       "      <td>0.007416</td>\n",
       "      <td>0</td>\n",
       "    </tr>\n",
       "    <tr>\n",
       "      <th>4</th>\n",
       "      <td>4</td>\n",
       "      <td>10016616206567</td>\n",
       "      <td>This is to inform you sir that we offer the mo...</td>\n",
       "      <td>op_tag</td>\n",
       "      <td>2</td>\n",
       "      <td>1</td>\n",
       "      <td>['op', '/op', 'ccd', '/ccd']</td>\n",
       "      <td>this is to inform you sir that we offer the mo...</td>\n",
       "      <td>-0.264114</td>\n",
       "      <td>-0.421753</td>\n",
       "      <td>...</td>\n",
       "      <td>0.983261</td>\n",
       "      <td>-0.791138</td>\n",
       "      <td>0.642151</td>\n",
       "      <td>0.433533</td>\n",
       "      <td>-0.424728</td>\n",
       "      <td>0.186951</td>\n",
       "      <td>-0.890274</td>\n",
       "      <td>0.104950</td>\n",
       "      <td>-0.127930</td>\n",
       "      <td>0</td>\n",
       "    </tr>\n",
       "  </tbody>\n",
       "</table>\n",
       "<p>5 rows × 309 columns</p>\n",
       "</div>"
      ],
      "text/plain": [
       "   Unnamed: 0         Amcatid  \\\n",
       "0           0  10016611374320   \n",
       "1           1  10016611374320   \n",
       "2           2  10016614250601   \n",
       "3           3  10016614250601   \n",
       "4           4  10016616206567   \n",
       "\n",
       "                                           Sentences Tag_name  Flow  Rater_id  \\\n",
       "0                 I am Rajeev Pathak, CSE,IT Systems   oi_tag     3         1   \n",
       "1  . I can send you the detailed time and cost es...  ccd_tag     3         1   \n",
       "2   Super Bazaar is looking to upgrade its old in...   op_tag     1         1   \n",
       "3    we will tell you our simpler way to deal.\\n\\n\\n  cdf_tag     1         1   \n",
       "4  This is to inform you sir that we offer the mo...   op_tag     2         1   \n",
       "\n",
       "                       All_tags  \\\n",
       "0  ['oi', '/oi', 'ccd', '/ccd']   \n",
       "1  ['oi', '/oi', 'ccd', '/ccd']   \n",
       "2  ['op', '/op', 'cdf', '/cdf']   \n",
       "3  ['op', '/op', 'cdf', '/cdf']   \n",
       "4  ['op', '/op', 'ccd', '/ccd']   \n",
       "\n",
       "                                        cleaned_text         0         1  \\\n",
       "0                 i am rajeev pathak  cse it systems  0.003418 -0.187500   \n",
       "1    i can send you the detailed time and cost es... -0.031738 -0.119141   \n",
       "2   super bazaar is looking to upgrade its old in...  0.493530  0.235840   \n",
       "3      we will tell you our simpler way to deal       0.247253 -0.041504   \n",
       "4  this is to inform you sir that we offer the mo... -0.264114 -0.421753   \n",
       "\n",
       "   ...        291       292       293       294       295       296       297  \\\n",
       "0  ...   0.156128  0.002563  0.336914  0.118469 -0.143799  0.098267 -0.203857   \n",
       "1  ...   0.225403 -0.262939 -0.197815  0.301208  0.294434  0.207520 -0.430069   \n",
       "2  ...   0.743286  0.121674  0.478882  0.555786 -0.464111 -0.050537 -0.084595   \n",
       "3  ...   0.080811 -0.165283 -0.085449 -0.573730  0.235352  0.309509 -0.439819   \n",
       "4  ...   0.983261 -0.791138  0.642151  0.433533 -0.424728  0.186951 -0.890274   \n",
       "\n",
       "        298       299  flag  \n",
       "0 -0.007050  0.055481     0  \n",
       "1  0.114990 -0.767578     0  \n",
       "2  0.132950 -0.100220     0  \n",
       "3 -0.047852  0.007416     0  \n",
       "4  0.104950 -0.127930     0  \n",
       "\n",
       "[5 rows x 309 columns]"
      ]
     },
     "execution_count": 3,
     "metadata": {},
     "output_type": "execute_result"
    }
   ],
   "source": [
    "word2vec_features.head()"
   ]
  },
  {
   "cell_type": "code",
   "execution_count": 4,
   "metadata": {},
   "outputs": [
    {
     "name": "stderr",
     "output_type": "stream",
     "text": [
      "/home/umang/.local/lib/python2.7/site-packages/ipykernel_launcher.py:14: FutureWarning: set_value is deprecated and will be removed in a future release. Please use .at[] or .iat[] accessors instead\n",
      "  \n"
     ]
    }
   ],
   "source": [
    "all_sentences_stemmed = []\n",
    "all_tags = []\n",
    "opening_tags = ['op_tag','oi_tag','opc_tag','ow_tag','oa_tag','ocg_tag','odf_tag']\n",
    "closing_tags = ['cac_tag','cap_tag','ccd_tag','cdf_tag','cff_tag','cth_tag','cw_tag']\n",
    "i = 0\n",
    "for row in range(0,word2vec_features.index.size):\n",
    "    if word2vec_features['Tag_name'][i] in opening_tags or word2vec_features['Tag_name'][i] in closing_tags:\n",
    "        all_tags.append(word2vec_features['Tag_name'][i])\n",
    "        splitted_arr = word2vec_features['cleaned_text'][i].split(\" \")\n",
    "        sentence= []\n",
    "        for word in splitted_arr:\n",
    "            sentence.append(ps.stem(word))\n",
    "        sentence = \" \".join(sentence)\n",
    "        word2vec_features = word2vec_features.set_value(row,'Cleaned Stemmed Text', sentence)\n",
    "    i += 1\n"
   ]
  },
  {
   "cell_type": "code",
   "execution_count": 6,
   "metadata": {},
   "outputs": [
    {
     "name": "stderr",
     "output_type": "stream",
     "text": [
      "\r",
      "  0%|          | 0/20 [00:00<?, ?it/s]"
     ]
    },
    {
     "name": "stdout",
     "output_type": "stream",
     "text": [
      "log_reg 50\n"
     ]
    },
    {
     "name": "stderr",
     "output_type": "stream",
     "text": [
      "  5%|▌         | 1/20 [00:03<00:57,  3.01s/it]/home/umang/.local/lib/python2.7/site-packages/sklearn/metrics/classification.py:1135: UndefinedMetricWarning: Precision and F-score are ill-defined and being set to 0.0 in labels with no predicted samples.\n",
      "  'precision', 'predicted', average, warn_for)\n",
      "100%|██████████| 20/20 [00:58<00:00,  2.93s/it]\n",
      "  0%|          | 0/20 [00:00<?, ?it/s]"
     ]
    },
    {
     "name": "stdout",
     "output_type": "stream",
     "text": [
      "log_reg 100\n"
     ]
    },
    {
     "name": "stderr",
     "output_type": "stream",
     "text": [
      "100%|██████████| 20/20 [01:52<00:00,  5.64s/it]\n",
      "  0%|          | 0/20 [00:00<?, ?it/s]"
     ]
    },
    {
     "name": "stdout",
     "output_type": "stream",
     "text": [
      "log_reg 150\n"
     ]
    },
    {
     "name": "stderr",
     "output_type": "stream",
     "text": [
      "100%|██████████| 20/20 [02:37<00:00,  7.90s/it]\n",
      "  0%|          | 0/20 [00:00<?, ?it/s]"
     ]
    },
    {
     "name": "stdout",
     "output_type": "stream",
     "text": [
      "log_reg 200\n"
     ]
    },
    {
     "name": "stderr",
     "output_type": "stream",
     "text": [
      "100%|██████████| 20/20 [03:25<00:00, 10.26s/it]\n",
      "  0%|          | 0/20 [00:00<?, ?it/s]"
     ]
    },
    {
     "name": "stdout",
     "output_type": "stream",
     "text": [
      "log_reg 250\n"
     ]
    },
    {
     "name": "stderr",
     "output_type": "stream",
     "text": [
      "100%|██████████| 20/20 [04:16<00:00, 12.81s/it]\n",
      "  0%|          | 0/20 [00:00<?, ?it/s]"
     ]
    },
    {
     "name": "stdout",
     "output_type": "stream",
     "text": [
      "log_reg 300\n"
     ]
    },
    {
     "name": "stderr",
     "output_type": "stream",
     "text": [
      "100%|██████████| 20/20 [04:58<00:00, 14.94s/it]\n",
      "  0%|          | 0/20 [00:00<?, ?it/s]"
     ]
    },
    {
     "name": "stdout",
     "output_type": "stream",
     "text": [
      "svm 50\n"
     ]
    },
    {
     "name": "stderr",
     "output_type": "stream",
     "text": [
      "100%|██████████| 20/20 [03:09<00:00,  9.47s/it]\n",
      "  0%|          | 0/20 [00:00<?, ?it/s]"
     ]
    },
    {
     "name": "stdout",
     "output_type": "stream",
     "text": [
      "svm 100\n"
     ]
    },
    {
     "name": "stderr",
     "output_type": "stream",
     "text": [
      "100%|██████████| 20/20 [04:51<00:00, 14.57s/it]\n",
      "  0%|          | 0/20 [00:00<?, ?it/s]"
     ]
    },
    {
     "name": "stdout",
     "output_type": "stream",
     "text": [
      "svm 150\n"
     ]
    },
    {
     "name": "stderr",
     "output_type": "stream",
     "text": [
      "100%|██████████| 20/20 [06:47<00:00, 20.38s/it]\n",
      "  0%|          | 0/20 [00:00<?, ?it/s]"
     ]
    },
    {
     "name": "stdout",
     "output_type": "stream",
     "text": [
      "svm 200\n"
     ]
    },
    {
     "name": "stderr",
     "output_type": "stream",
     "text": [
      "100%|██████████| 20/20 [08:18<00:00, 24.94s/it]\n",
      "  0%|          | 0/20 [00:00<?, ?it/s]"
     ]
    },
    {
     "name": "stdout",
     "output_type": "stream",
     "text": [
      "svm 250\n"
     ]
    },
    {
     "name": "stderr",
     "output_type": "stream",
     "text": [
      "100%|██████████| 20/20 [10:21<00:00, 31.08s/it]\n",
      "  0%|          | 0/20 [00:00<?, ?it/s]"
     ]
    },
    {
     "name": "stdout",
     "output_type": "stream",
     "text": [
      "svm 300\n"
     ]
    },
    {
     "name": "stderr",
     "output_type": "stream",
     "text": [
      "100%|██████████| 20/20 [11:56<00:00, 35.84s/it]\n"
     ]
    }
   ],
   "source": [
    "num_feats = [50,100,150,200,250,300]\n",
    "models = ['log_reg' , 'svm']\n",
    "model_list = []\n",
    "feat_list = []\n",
    "accuracy_mean_list = []\n",
    "accuracy_stdev_list = []\n",
    "report_lr_list = []\n",
    "for model in models:\n",
    "    for feat_num in num_feats:\n",
    "        model_list.append(model)\n",
    "        feat_list.append(feat_num)\n",
    "        accuracy_lr = []\n",
    "        report_lr = []\n",
    "        feat_list = []\n",
    "        print model, feat_num\n",
    "        for i in tqdm(range(0,20)):\n",
    "            X_train, X_test, y_train,y_test = cross_validation.train_test_split(word2vec_features,word2vec_features['Tag_name'], test_size = 0.30)\n",
    "            count_vectorizer = CountVectorizer()\n",
    "            X_train_word2vec = X_train.iloc[:,8:308]\n",
    "            X_test_word2vec = X_test.iloc[:,8:308]\n",
    "            X_train_tfidf = count_vectorizer.fit_transform(X_train['Cleaned Stemmed Text'])\n",
    "            X_test_tfidf = count_vectorizer.transform(X_test['Cleaned Stemmed Text'])\n",
    "            tfidf_columns = count_vectorizer.vocabulary_.keys()\n",
    "            X_train_word2vec = X_train_word2vec.reset_index(drop='true')\n",
    "            X_test_word2vec = X_test_word2vec.reset_index(drop='true')\n",
    "            tfidf = TfidfTransformer(norm=\"l2\")\n",
    "            tfidf.fit(X_train_tfidf)\n",
    "            X_train_tfidf = tfidf.transform(X_train_tfidf).todense()\n",
    "            X_test_tfidf = tfidf.transform(X_test_tfidf).todense()\n",
    "            \n",
    "            X_train_tfidf = pd.DataFrame(X_train_tfidf , columns=tfidf_columns)\n",
    "            X_test_tfidf = pd.DataFrame(X_test_tfidf , columns=tfidf_columns)\n",
    "\n",
    "        \n",
    "            X_train_new = pd.concat([X_train_word2vec,X_train_tfidf],axis=1)\n",
    "            X_test_new = pd.concat([X_test_word2vec,X_test_tfidf],axis=1)\n",
    "             \n",
    "            selectkBest=SelectKBest(f_classif, k=feat_num)\n",
    "            X_new_train=selectkBest.fit_transform(X_train_new, y_train)\n",
    "            features_selected = X_train_new.columns[selectkBest.get_support()]\n",
    "            X_new_test=selectkBest.transform(X_test_new)\n",
    "            \n",
    "            if model == 'log_reg':\n",
    "                model_used = LogisticRegression()\n",
    "            if model == 'svm':\n",
    "                model_used = svm.SVC()\n",
    "            model_used.fit(X_new_train, y_train)\n",
    "            predictions = model_used.predict(X_new_test)\n",
    "            accuracy_lr.append(accuracy_score(y_test, predictions))\n",
    "            y_pred = predictions\n",
    "            y_true = y_test\n",
    "            report_lr.append(precision_recall_fscore_support(y_true, y_pred, average= None , labels=opening_tags))\n",
    "        report_lr = np.mean(report_lr,axis=0)\n",
    "        precision_ = list(report_lr[0])\n",
    "        feat_list.append(features_selected)\n",
    "        precision_.append('precision')\n",
    "        recall_ = list(report_lr[1])\n",
    "        recall_.append('recall')\n",
    "        f1_score_ = list(report_lr[2])\n",
    "        f1_score_.append('f1_score')\n",
    "        model_type = [model, feat_num]\n",
    "        precision_.extend(model_type)\n",
    "        recall_.extend(model_type)\n",
    "        f1_score_.extend(model_type)\n",
    "        report_lr_list.append(precision_)\n",
    "        report_lr_list.append(recall_)\n",
    "        report_lr_list.append(f1_score_)\n",
    "        accuracy_mean_list.append(np.mean(accuracy_lr))\n",
    "        accuracy_stdev_list.append(np.std(accuracy_lr))"
   ]
  },
  {
   "cell_type": "code",
   "execution_count": 8,
   "metadata": {},
   "outputs": [],
   "source": [
    "X_train_new = pd.DataFrame()\n",
    "X_test_new = pd.DataFrame()\n",
    "X_train_new = pd.concat([X_train_word2vec,X_train_tfidf],axis=1)\n",
    "X_test_new = pd.concat([X_test_word2vec,X_test_tfidf],axis=1)\n",
    "all_features = pd.DataFrame()\n",
    "all_features = pd.concat([X_test_new,X_test_new],axis=1)\n",
    "all_features \n",
    "all_features.to_csv(\"/home/umang/Desktop/all_features.csv\")"
   ]
  },
  {
   "cell_type": "code",
   "execution_count": 9,
   "metadata": {},
   "outputs": [
    {
     "name": "stdout",
     "output_type": "stream",
     "text": [
      "      op_tag    oi_tag   opc_tag    ow_tag    oa_tag   ocg_tag   odf_tag  \\\n",
      "0   0.567347  0.803834  0.622290  0.108333  0.662464  0.630734  0.365576   \n",
      "1   0.466320  0.877808  0.702564  0.020892  0.745804  0.684913  0.284433   \n",
      "2   0.510710  0.838949  0.659475  0.034835  0.701163  0.656295  0.318989   \n",
      "3   0.612975  0.829397  0.678049  0.416111  0.723119  0.628244  0.416956   \n",
      "4   0.519417  0.884797  0.728679  0.165850  0.804760  0.706105  0.358065   \n",
      "5   0.561415  0.855962  0.702185  0.229936  0.761344  0.664056  0.384786   \n",
      "6   0.633118  0.834489  0.689237  0.633478  0.736723  0.645719  0.438164   \n",
      "7   0.541250  0.873696  0.744509  0.339734  0.813557  0.719291  0.382460   \n",
      "8   0.582834  0.853321  0.715032  0.439351  0.772351  0.679623  0.407611   \n",
      "9   0.624546  0.836469  0.700527  0.726806  0.739155  0.635358  0.444914   \n",
      "10  0.555155  0.878406  0.742371  0.509693  0.819736  0.726430  0.395181   \n",
      "11  0.587100  0.856768  0.720539  0.578018  0.776657  0.677211  0.418159   \n",
      "12  0.638790  0.843952  0.704881  0.730696  0.748665  0.627417  0.460317   \n",
      "13  0.583531  0.887494  0.750962  0.635903  0.824862  0.709578  0.406757   \n",
      "14  0.609588  0.864985  0.726873  0.661238  0.784118  0.665252  0.431283   \n",
      "15  0.624037  0.853435  0.709337  0.720476  0.766979  0.650217  0.452940   \n",
      "16  0.596646  0.885100  0.741073  0.569414  0.836262  0.703176  0.412558   \n",
      "17  0.609515  0.868769  0.724317  0.627800  0.799828  0.675132  0.431146   \n",
      "18  0.595669  0.753510  0.678493  0.000000  0.643781  0.648045  0.389483   \n",
      "19  0.463807  0.879609  0.681730  0.000000  0.764821  0.708331  0.366135   \n",
      "20  0.520495  0.811465  0.679687  0.000000  0.698530  0.676305  0.376842   \n",
      "21  0.632589  0.774981  0.726670  0.000000  0.677111  0.653344  0.432498   \n",
      "22  0.491102  0.886764  0.699009  0.000000  0.852993  0.712157  0.429238   \n",
      "23  0.552312  0.826888  0.712180  0.000000  0.754484  0.680662  0.430516   \n",
      "24  0.655953  0.771336  0.718460  0.000000  0.684680  0.643985  0.437766   \n",
      "25  0.482798  0.881019  0.683018  0.000000  0.870424  0.725481  0.432198   \n",
      "26  0.555792  0.822453  0.700076  0.000000  0.766092  0.681690  0.434679   \n",
      "27  0.670416  0.764872  0.732683  0.000000  0.664496  0.649867  0.448588   \n",
      "28  0.497153  0.886054  0.690775  0.000000  0.856970  0.733608  0.440787   \n",
      "29  0.570565  0.820911  0.710904  0.000000  0.748005  0.688848  0.444258   \n",
      "30  0.677145  0.771383  0.745215  0.000000  0.688276  0.659436  0.447586   \n",
      "31  0.510761  0.897463  0.699771  0.000000  0.866827  0.741812  0.441143   \n",
      "32  0.581377  0.829448  0.721472  0.000000  0.766849  0.697310  0.443969   \n",
      "33  0.694273  0.761555  0.743422  0.000000  0.676610  0.668680  0.449612   \n",
      "34  0.509417  0.892514  0.687472  0.000000  0.867750  0.737821  0.442566   \n",
      "35  0.586805  0.821620  0.714111  0.000000  0.760072  0.700873  0.445605   \n",
      "\n",
      "       metric    model  features  \n",
      "0   precision  log_reg        50  \n",
      "1      recall  log_reg        50  \n",
      "2    f1_score  log_reg        50  \n",
      "3   precision  log_reg       100  \n",
      "4      recall  log_reg       100  \n",
      "5    f1_score  log_reg       100  \n",
      "6   precision  log_reg       150  \n",
      "7      recall  log_reg       150  \n",
      "8    f1_score  log_reg       150  \n",
      "9   precision  log_reg       200  \n",
      "10     recall  log_reg       200  \n",
      "11   f1_score  log_reg       200  \n",
      "12  precision  log_reg       250  \n",
      "13     recall  log_reg       250  \n",
      "14   f1_score  log_reg       250  \n",
      "15  precision  log_reg       300  \n",
      "16     recall  log_reg       300  \n",
      "17   f1_score  log_reg       300  \n",
      "18  precision      svm        50  \n",
      "19     recall      svm        50  \n",
      "20   f1_score      svm        50  \n",
      "21  precision      svm       100  \n",
      "22     recall      svm       100  \n",
      "23   f1_score      svm       100  \n",
      "24  precision      svm       150  \n",
      "25     recall      svm       150  \n",
      "26   f1_score      svm       150  \n",
      "27  precision      svm       200  \n",
      "28     recall      svm       200  \n",
      "29   f1_score      svm       200  \n",
      "30  precision      svm       250  \n",
      "31     recall      svm       250  \n",
      "32   f1_score      svm       250  \n",
      "33  precision      svm       300  \n",
      "34     recall      svm       300  \n",
      "35   f1_score      svm       300  \n"
     ]
    }
   ],
   "source": [
    "classification_df = pd.DataFrame(report_lr_list,columns=opening_tags+['metric','model','features'])\n",
    "print classification_df"
   ]
  },
  {
   "cell_type": "code",
   "execution_count": 13,
   "metadata": {},
   "outputs": [],
   "source": [
    "accuracy_df = pd.DataFrame()\n",
    "accuracy_df['model'] = model_list\n",
    "accuracy_df['accuracy_mean'] = accuracy_mean_list\n",
    "accuracy_df['accuracy_stdev'] = accuracy_stdev_list\n",
    "features = pd.DataFrame()\n"
   ]
  },
  {
   "cell_type": "code",
   "execution_count": 15,
   "metadata": {},
   "outputs": [
    {
     "data": {
      "text/html": [
       "<div>\n",
       "<style scoped>\n",
       "    .dataframe tbody tr th:only-of-type {\n",
       "        vertical-align: middle;\n",
       "    }\n",
       "\n",
       "    .dataframe tbody tr th {\n",
       "        vertical-align: top;\n",
       "    }\n",
       "\n",
       "    .dataframe thead th {\n",
       "        text-align: right;\n",
       "    }\n",
       "</style>\n",
       "<table border=\"1\" class=\"dataframe\">\n",
       "  <thead>\n",
       "    <tr style=\"text-align: right;\">\n",
       "      <th></th>\n",
       "      <th>model</th>\n",
       "      <th>accuracy_mean</th>\n",
       "      <th>accuracy_stdev</th>\n",
       "    </tr>\n",
       "  </thead>\n",
       "  <tbody>\n",
       "    <tr>\n",
       "      <th>0</th>\n",
       "      <td>log_reg</td>\n",
       "      <td>0.581063</td>\n",
       "      <td>0.007046</td>\n",
       "    </tr>\n",
       "    <tr>\n",
       "      <th>1</th>\n",
       "      <td>log_reg</td>\n",
       "      <td>0.625631</td>\n",
       "      <td>0.007727</td>\n",
       "    </tr>\n",
       "    <tr>\n",
       "      <th>2</th>\n",
       "      <td>log_reg</td>\n",
       "      <td>0.640061</td>\n",
       "      <td>0.006373</td>\n",
       "    </tr>\n",
       "    <tr>\n",
       "      <th>3</th>\n",
       "      <td>log_reg</td>\n",
       "      <td>0.647360</td>\n",
       "      <td>0.006208</td>\n",
       "    </tr>\n",
       "    <tr>\n",
       "      <th>4</th>\n",
       "      <td>log_reg</td>\n",
       "      <td>0.656324</td>\n",
       "      <td>0.008266</td>\n",
       "    </tr>\n",
       "    <tr>\n",
       "      <th>5</th>\n",
       "      <td>log_reg</td>\n",
       "      <td>0.656862</td>\n",
       "      <td>0.008696</td>\n",
       "    </tr>\n",
       "    <tr>\n",
       "      <th>6</th>\n",
       "      <td>svm</td>\n",
       "      <td>0.588059</td>\n",
       "      <td>0.011096</td>\n",
       "    </tr>\n",
       "    <tr>\n",
       "      <th>7</th>\n",
       "      <td>svm</td>\n",
       "      <td>0.621611</td>\n",
       "      <td>0.006886</td>\n",
       "    </tr>\n",
       "    <tr>\n",
       "      <th>8</th>\n",
       "      <td>svm</td>\n",
       "      <td>0.624723</td>\n",
       "      <td>0.007241</td>\n",
       "    </tr>\n",
       "    <tr>\n",
       "      <th>9</th>\n",
       "      <td>svm</td>\n",
       "      <td>0.629129</td>\n",
       "      <td>0.005858</td>\n",
       "    </tr>\n",
       "    <tr>\n",
       "      <th>10</th>\n",
       "      <td>svm</td>\n",
       "      <td>0.634544</td>\n",
       "      <td>0.009394</td>\n",
       "    </tr>\n",
       "    <tr>\n",
       "      <th>11</th>\n",
       "      <td>svm</td>\n",
       "      <td>0.635066</td>\n",
       "      <td>0.005401</td>\n",
       "    </tr>\n",
       "  </tbody>\n",
       "</table>\n",
       "</div>"
      ],
      "text/plain": [
       "      model  accuracy_mean  accuracy_stdev\n",
       "0   log_reg       0.581063        0.007046\n",
       "1   log_reg       0.625631        0.007727\n",
       "2   log_reg       0.640061        0.006373\n",
       "3   log_reg       0.647360        0.006208\n",
       "4   log_reg       0.656324        0.008266\n",
       "5   log_reg       0.656862        0.008696\n",
       "6       svm       0.588059        0.011096\n",
       "7       svm       0.621611        0.006886\n",
       "8       svm       0.624723        0.007241\n",
       "9       svm       0.629129        0.005858\n",
       "10      svm       0.634544        0.009394\n",
       "11      svm       0.635066        0.005401"
      ]
     },
     "execution_count": 15,
     "metadata": {},
     "output_type": "execute_result"
    }
   ],
   "source": [
    "##df.to_csv('/home/umang/Desktop/AM_Email_Tagging_Model_Building_Results/Gap_of_10:200_to_250/Closing_Tags/accuracy.csv')\n",
    "accuracy_df"
   ]
  },
  {
   "cell_type": "code",
   "execution_count": null,
   "metadata": {},
   "outputs": [],
   "source": []
  }
 ],
 "metadata": {
  "kernelspec": {
   "display_name": "Python 2",
   "language": "python",
   "name": "python2"
  },
  "language_info": {
   "codemirror_mode": {
    "name": "ipython",
    "version": 2
   },
   "file_extension": ".py",
   "mimetype": "text/x-python",
   "name": "python",
   "nbconvert_exporter": "python",
   "pygments_lexer": "ipython2",
   "version": "2.7.12"
  }
 },
 "nbformat": 4,
 "nbformat_minor": 2
}
